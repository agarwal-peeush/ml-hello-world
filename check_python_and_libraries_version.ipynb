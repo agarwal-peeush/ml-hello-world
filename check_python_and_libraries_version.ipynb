{
 "cells": [
  {
   "cell_type": "code",
   "execution_count": 1,
   "metadata": {},
   "outputs": [],
   "source": [
    "import sys\n",
    "import scipy\n",
    "import numpy as np\n",
    "import matplotlib\n",
    "import pandas as pd"
   ]
  },
  {
   "cell_type": "code",
   "execution_count": 2,
   "metadata": {},
   "outputs": [
    {
     "name": "stdout",
     "output_type": "stream",
     "text": [
      "Python: 3.6.5 |Anaconda, Inc.| (default, Mar 29 2018, 13:32:41) [MSC v.1900 64 bit (AMD64)]\n",
      "Scipy: 1.1.0\n",
      "Numpy: 1.14.3\n",
      "Matplotlib: 2.2.2\n",
      "Pandas: 0.23.0\n"
     ]
    }
   ],
   "source": [
    "print('Python: {0}'.format(sys.version))\n",
    "print('Scipy: {0}'.format(scipy.__version__))\n",
    "print('Numpy: {0}'.format(np.__version__))\n",
    "print('Matplotlib: {0}'.format(matplotlib.__version__))\n",
    "print('Pandas: {0}'.format(pd.__version__))"
   ]
  },
  {
   "cell_type": "code",
   "execution_count": null,
   "metadata": {},
   "outputs": [],
   "source": []
  }
 ],
 "metadata": {
  "kernelspec": {
   "display_name": "Python 3",
   "language": "python",
   "name": "python3"
  },
  "language_info": {
   "codemirror_mode": {
    "name": "ipython",
    "version": 3
   },
   "file_extension": ".py",
   "mimetype": "text/x-python",
   "name": "python",
   "nbconvert_exporter": "python",
   "pygments_lexer": "ipython3",
   "version": "3.6.5"
  }
 },
 "nbformat": 4,
 "nbformat_minor": 2
}
